{
 "cells": [
  {
   "cell_type": "markdown",
   "metadata": {},
   "source": [
    "<img src=\"http://oci02.img.iteso.mx/identidad_de_instancia_2018/ITESO/Logos%20ITESO/Logo-ITESO-Principal.jpg\">"
   ]
  },
  {
   "cell_type": "markdown",
   "metadata": {},
   "source": [
    "<center> <font color= #004A94> <font size = 6> Msc Ciencia de datos </font> <br> <br> <font color= #047CFB> <font size = 4>I.F. Juan Francisco Muñoz Elguezabal - franciscome@iteso.mx </font>"
   ]
  },
  {
   "cell_type": "markdown",
   "metadata": {},
   "source": [
    "<center> <font color= #42c29b> <font size = 6> IDI - II </font> <br> <br>\n",
    "<center> <font color= #42caaa> <font size = 4> Tarea2 - Método de aproximación numérica Newton-Raphson (una variable) </font> <br> <br>\n",
    "<center> <font color= #a9a9a9> <font size = 4> Repositorio: <a href='https://github.com/IFFranciscoME/IDI_II_GIT'>Link</a></font>"
   ]
  },
  {
   "cell_type": "markdown",
   "metadata": {},
   "source": [
    "---"
   ]
  },
  {
   "cell_type": "code",
   "execution_count": 1,
   "metadata": {},
   "outputs": [
    {
     "data": {
      "text/plain": [
       "<matplotlib.figure.Figure at 0x7f18f4bf5c18>"
      ]
     },
     "metadata": {},
     "output_type": "display_data"
    },
    {
     "name": "stdout",
     "output_type": "stream",
     "text": [
      "prueba xn con nuevo x0 de: 0.1\n",
      "iter: 1 | val_aprox: 13.464864864864863 | error_aprox: 1.0074267362505018\n",
      "prueba xn con nuevo x0 de: 13.464864864864863\n",
      "iter: 2 | val_aprox: 9.233425526076621 | error_aprox: 0.45827405298694435\n",
      "prueba xn con nuevo x0 de: 9.233425526076621\n",
      "iter: 3 | val_aprox: 6.438192954163158 | error_aprox: 0.43416415006729003\n",
      "prueba xn con nuevo x0 de: 6.438192954163158\n",
      "iter: 4 | val_aprox: 4.623103722870808 | error_aprox: 0.39261269919447844\n",
      "prueba xn con nuevo x0 de: 4.623103722870808\n",
      "iter: 5 | val_aprox: 3.503941920643626 | error_aprox: 0.3194007856219282\n",
      "prueba xn con nuevo x0 de: 3.503941920643626\n",
      "iter: 6 | val_aprox: 2.9138215778984717 | error_aprox: 0.20252452903130921\n",
      "prueba xn con nuevo x0 de: 2.9138215778984717\n",
      "iter: 7 | val_aprox: 2.7141462617864773 | error_aprox: 0.0735683698860673\n",
      "prueba xn con nuevo x0 de: 2.7141462617864773\n",
      "iter: 8 | val_aprox: 2.6909479717265947 | error_aprox: 0.008620861608482855\n",
      "prueba xn con nuevo x0 de: 2.6909479717265947\n",
      "iter: 9 | val_aprox: 2.690647498069502 | error_aprox: 0.00011167336386815185\n",
      "tiempo que tardo: 0.052 segundos\n"
     ]
    },
    {
     "data": {
      "text/plain": [
       "<matplotlib.figure.Figure at 0x7f18d024a4a8>"
      ]
     },
     "metadata": {},
     "output_type": "display_data"
    },
    {
     "name": "stdout",
     "output_type": "stream",
     "text": [
      "prueba xn con nuevo x0 de: 1\n",
      "iter: 1 | val_aprox: 0.7503638678402439 | error_aprox: 0.33268677085728876\n",
      "prueba xn con nuevo x0 de: 0.7503638678402439\n",
      "iter: 2 | val_aprox: 0.7391128909113617 | error_aprox: 0.015222271275784708\n",
      "prueba xn con nuevo x0 de: 0.7391128909113617\n",
      "iter: 3 | val_aprox: 0.739085133385284 | error_aprox: 3.7556601836250274e-05\n",
      "tiempo que tardo: 0.0221 segundos\n"
     ]
    },
    {
     "data": {
      "text/plain": [
       "<matplotlib.figure.Figure at 0x7f18d01f6c18>"
      ]
     },
     "metadata": {},
     "output_type": "display_data"
    },
    {
     "name": "stdout",
     "output_type": "stream",
     "text": [
      "prueba xn con nuevo x0 de: 1\n",
      "iter: 1 | val_aprox: 0.9644529683254768 | error_aprox: 0.03685719557299041\n",
      "prueba xn con nuevo x0 de: 0.9644529683254768\n",
      "iter: 2 | val_aprox: 0.9643338890103158 | error_aprox: 0.0001234834910584595\n",
      "tiempo que tardo: 0.0184 segundos\n"
     ]
    },
    {
     "data": {
      "text/plain": [
       "<matplotlib.figure.Figure at 0x7f18d02a3550>"
      ]
     },
     "metadata": {},
     "output_type": "display_data"
    },
    {
     "name": "stdout",
     "output_type": "stream",
     "text": [
      "prueba xn con nuevo x0 de: 1.1\n",
      "iter: 1 | val_aprox: 1.2320766591861876 | error_aprox: 0.10719841026241572\n",
      "prueba xn con nuevo x0 de: 1.2320766591861876\n",
      "iter: 2 | val_aprox: 1.351592714067783 | error_aprox: 0.08842608696957037\n",
      "prueba xn con nuevo x0 de: 1.351592714067783\n",
      "iter: 3 | val_aprox: 1.3941785913595655 | error_aprox: 0.03054549650647972\n",
      "prueba xn con nuevo x0 de: 1.3941785913595655\n",
      "iter: 4 | val_aprox: 1.3977268096539044 | error_aprox: 0.002538563523166247\n",
      "prueba xn con nuevo x0 de: 1.3977268096539044\n",
      "iter: 5 | val_aprox: 1.3977484751594296 | error_aprox: 1.5500289150886114e-05\n",
      "tiempo que tardo: 0.0342 segundos\n",
      "prueba xn con nuevo x0 de: 10000\n",
      "iter: 1 | val_aprox: 10013.268547464695 | error_aprox: 0.001325096535841396\n",
      "prueba xn con nuevo x0 de: 10013.268547464695\n",
      "iter: 2 | val_aprox: 9374.72697890418 | error_aprox: 0.06811308425273783\n",
      "prueba xn con nuevo x0 de: 9374.72697890418\n",
      "iter: 3 | val_aprox: 9360.796667144383 | error_aprox: 0.0014881545081191262\n",
      "prueba xn con nuevo x0 de: 9360.796667144383\n",
      "iter: 4 | val_aprox: 9350.528938544447 | error_aprox: 0.001098090671385537\n",
      "prueba xn con nuevo x0 de: 9350.528938544447\n",
      "iter: 5 | val_aprox: 9418.738614239417 | error_aprox: 0.007241911946876817\n",
      "prueba xn con nuevo x0 de: 9418.738614239417\n",
      "iter: 6 | val_aprox: 9404.34448903088 | error_aprox: 0.0015305825116600181\n",
      "prueba xn con nuevo x0 de: 9404.34448903088\n",
      "iter: 7 | val_aprox: 9388.663445524378 | error_aprox: 0.0016702104189257063\n",
      "prueba xn con nuevo x0 de: 9388.663445524378\n",
      "iter: 8 | val_aprox: 9406.753103914527 | error_aprox: 0.0019230501949307791\n",
      "prueba xn con nuevo x0 de: 9406.753103914527\n",
      "iter: 9 | val_aprox: 9348.683621653285 | error_aprox: 0.0062115143277223055\n",
      "prueba xn con nuevo x0 de: 9348.683621653285\n",
      "iter: 10 | val_aprox: 9339.595430264964 | error_aprox: 0.0009730819130419848\n",
      "tiempo que tardo: 0.063 segundos\n"
     ]
    },
    {
     "data": {
      "text/plain": [
       "<matplotlib.figure.Figure at 0x7f18d0137d30>"
      ]
     },
     "metadata": {},
     "output_type": "display_data"
    },
    {
     "name": "stdout",
     "output_type": "stream",
     "text": [
      "prueba xn con nuevo x0 de: 1\n",
      "iter: 1 | val_aprox: 0.9141552818325432 | error_aprox: 0.09390605718031826\n",
      "prueba xn con nuevo x0 de: 0.9141552818325432\n",
      "iter: 2 | val_aprox: 0.9100176657834059 | error_aprox: 0.004546742557547353\n",
      "prueba xn con nuevo x0 de: 0.9100176657834059\n",
      "iter: 3 | val_aprox: 0.9100075725488881 | error_aprox: 1.1091374206445029e-05\n",
      "tiempo que tardo: 0.0183 segundos\n"
     ]
    },
    {
     "data": {
      "text/plain": [
       "<matplotlib.figure.Figure at 0x7f18d0041588>"
      ]
     },
     "metadata": {},
     "output_type": "display_data"
    },
    {
     "name": "stdout",
     "output_type": "stream",
     "text": [
      "1.7321428571428572\n"
     ]
    },
    {
     "data": {
      "text/plain": [
       "<matplotlib.figure.Figure at 0x7f18d00481d0>"
      ]
     },
     "metadata": {},
     "output_type": "display_data"
    },
    {
     "name": "stdout",
     "output_type": "stream",
     "text": [
      "prueba xn con nuevo x0 de: -0.435\n",
      "iter: 1 | val_aprox: 0.4341431277171778 | error_aprox: 0.001973709194310747\n",
      "prueba xn con nuevo x0 de: 0.4341431277171778\n",
      "iter: 2 | val_aprox: 0.4508555942474954 | error_aprox: 0.03706833572335217\n",
      "prueba xn con nuevo x0 de: 0.4508555942474954\n",
      "iter: 3 | val_aprox: 0.45065677428320083 | error_aprox: 0.000441178243932505\n",
      "prueba xn con nuevo x0 de: 0.45065677428320083\n",
      "iter: 4 | val_aprox: 0.4506567478899362 | error_aprox: 5.856622529889073e-08\n",
      "tiempo que tardo: 0.1166 segundos\n"
     ]
    }
   ],
   "source": [
    "import time\n",
    "import sympy as sp\n",
    "from sympy.plotting import plot\n",
    "from IDI_II_Tarea2_JFME import f_newton_raphson as c"
   ]
  },
  {
   "cell_type": "code",
   "execution_count": 2,
   "metadata": {},
   "outputs": [
    {
     "data": {
      "image/png": "[encoded data removed]",
      "text/plain": [
       "<matplotlib.figure.Figure at 0x7f18d0028b38>"
      ]
     },
     "metadata": {
      "needs_background": "light"
     },
     "output_type": "display_data"
    },
    {
     "ename": "NameError",
     "evalue": "name 'codigos' is not defined",
     "output_type": "error",
     "traceback": [
      "\u001b[0;31m---------------------------------------------------------------------------\u001b[0m",
      "\u001b[0;31mNameError\u001b[0m                                 Traceback (most recent call last)",
      "\u001b[0;32m<ipython-input-2-c1ca2ebb569c>\u001b[0m in \u001b[0;36m<module>\u001b[0;34m\u001b[0m\n\u001b[1;32m      2\u001b[0m \u001b[0mf1a\u001b[0m \u001b[0;34m=\u001b[0m \u001b[0;34m'x**3 - 2*x**2 - 5'\u001b[0m\u001b[0;34m\u001b[0m\u001b[0;34m\u001b[0m\u001b[0m\n\u001b[1;32m      3\u001b[0m \u001b[0mplot\u001b[0m\u001b[0;34m(\u001b[0m\u001b[0mf1a\u001b[0m\u001b[0;34m)\u001b[0m\u001b[0;34m\u001b[0m\u001b[0;34m\u001b[0m\u001b[0m\n\u001b[0;32m----> 4\u001b[0;31m \u001b[0mejercicio_a\u001b[0m \u001b[0;34m=\u001b[0m \u001b[0mcodigos\u001b[0m\u001b[0;34m.\u001b[0m\u001b[0mf_newton_raphson\u001b[0m\u001b[0;34m(\u001b[0m\u001b[0mparam_f\u001b[0m\u001b[0;34m=\u001b[0m\u001b[0mf1a\u001b[0m\u001b[0;34m,\u001b[0m \u001b[0mparam_x0\u001b[0m\u001b[0;34m=\u001b[0m\u001b[0;36m0.1\u001b[0m\u001b[0;34m,\u001b[0m \u001b[0mparam_e\u001b[0m\u001b[0;34m=\u001b[0m\u001b[0;36m10e-4\u001b[0m\u001b[0;34m,\u001b[0m \u001b[0mparam_msn\u001b[0m\u001b[0;34m=\u001b[0m\u001b[0;32mTrue\u001b[0m\u001b[0;34m)\u001b[0m\u001b[0;34m\u001b[0m\u001b[0;34m\u001b[0m\u001b[0m\n\u001b[0m\u001b[1;32m      5\u001b[0m \u001b[0mprint\u001b[0m\u001b[0;34m(\u001b[0m\u001b[0;34m'tiempo que tardo: '\u001b[0m \u001b[0;34m+\u001b[0m \u001b[0mstr\u001b[0m\u001b[0;34m(\u001b[0m\u001b[0mejercicio_a\u001b[0m\u001b[0;34m[\u001b[0m\u001b[0;34m'tiempo'\u001b[0m\u001b[0;34m]\u001b[0m\u001b[0;34m)\u001b[0m \u001b[0;34m+\u001b[0m \u001b[0;34m' segundos'\u001b[0m\u001b[0;34m)\u001b[0m\u001b[0;34m\u001b[0m\u001b[0;34m\u001b[0m\u001b[0m\n\u001b[1;32m      6\u001b[0m \u001b[0;31m# empece en 0\u001b[0m\u001b[0;34m\u001b[0m\u001b[0;34m\u001b[0m\u001b[0;34m\u001b[0m\u001b[0m\n",
      "\u001b[0;31mNameError\u001b[0m: name 'codigos' is not defined"
     ]
    }
   ],
   "source": [
    "# -- Ejercicio 1\n",
    "f1a = 'x**3 - 2*x**2 - 5'\n",
    "plot(f1a)\n",
    "ejercicio_a = codigos.f_newton_raphson(param_f=f1a, param_x0=0.1, param_e=10e-4, param_msn=True)\n",
    "print('tiempo que tardo: ' + str(ejercicio_a['tiempo']) + ' segundos')\n",
    "# empece en 0\n",
    "# cambie a 0.1"
   ]
  },
  {
   "cell_type": "code",
   "execution_count": null,
   "metadata": {},
   "outputs": [],
   "source": [
    "f1b = 'x - cos(x)'\n",
    "plot(f1b)\n",
    "ejercicio_b = codigos.f_newton_raphson(param_f=f1b, param_x0=1, param_e=10e-4, param_msn=True)\n",
    "print('tiempo que tardo: ' + str(ejercicio_b['tiempo']) + ' segundos')\n",
    "# empece en 1"
   ]
  },
  {
   "cell_type": "code",
   "execution_count": null,
   "metadata": {},
   "outputs": [],
   "source": [
    "f1c = 'x - 0.8 - 0.2*sin(x)'\n",
    "plot(f1c)\n",
    "ejercicio_c = codigos.f_newton_raphson(param_f=f1c, param_x0=1, param_e=10e-4, param_msn=True)\n",
    "print('tiempo que tardo: ' + str(ejercicio_c['tiempo']) + ' segundos')\n",
    "# empece en 1"
   ]
  },
  {
   "cell_type": "code",
   "execution_count": null,
   "metadata": {},
   "outputs": [],
   "source": [
    "f1d = 'log(x - 1) + cos(x-1)'\n",
    "plot(f1d, xlim=(0, 11), ylim=(-10, 10))\n",
    "ejercicio_d = codigos.f_newton_raphson(param_f=f1d, param_x0=1.1, param_e=10e-4, param_msn=True)\n",
    "print('tiempo que tardo: ' + str(ejercicio_d['tiempo']) + ' segundos')\n",
    "# empece en 2.5\n",
    "# cambie a 2\n",
    "# cambie a 1.1"
   ]
  },
  {
   "cell_type": "code",
   "execution_count": null,
   "metadata": {},
   "outputs": [],
   "source": [
    "f1e = 'exp(x) - 3*x**2'\n",
    "plot(f1e)\n",
    "ejercicio_e = codigos.f_newton_raphson(param_f=f1e, param_x0=1, param_e=10e-4, param_msn=True)\n",
    "print('tiempo que tardo: ' + str(ejercicio_e['tiempo']) + ' segundos')\n",
    "# empece en 1"
   ]
  },
  {
   "cell_type": "code",
   "execution_count": null,
   "metadata": {},
   "outputs": [],
   "source": [
    "f2 = 'x**(1/2)'\n",
    "plot(f2)\n",
    "\n",
    "# numero para encontrarle raiz\n",
    "num = 3\n",
    "a = float(num)\n",
    "\n",
    "# no parar hasta encontrar mas decimales que 1e-6\n",
    "while str(num)[::-1].find('.') < 6:\n",
    "    # formula simplificada de metodo\n",
    "    num = (num + a / num) * 0.5  # update\n",
    "# imprimir numero\n",
    "print(num)"
   ]
  },
  {
   "cell_type": "code",
   "execution_count": null,
   "metadata": {},
   "outputs": [],
   "source": [
    "# -- Ejercicio 3\n",
    "f3 = 'ln(x**2 + 1) - exp(0.4*x)*cos(pi*x)'\n",
    "plot(f3)\n",
    "\n",
    "ejercicio_3 = f_newton_raphson(param_f=f3, param_x0=-0.4350, param_e=10e-6, param_msn=True)\n",
    "print('tiempo que tardo: ' + str(ejercicio_3['tiempo']) + ' segundos')\n",
    "# empece en -1\n",
    "# cambie a -.43\n",
    "# cambie a -.425\n",
    "# cambie a -.4350"
   ]
  },
  {
   "cell_type": "code",
   "execution_count": null,
   "metadata": {},
   "outputs": [],
   "source": []
  }
 ],
 "metadata": {
  "kernelspec": {
   "display_name": "Python 3",
   "language": "python",
   "name": "python3"
  },
  "language_info": {
   "codemirror_mode": {
    "name": "ipython",
    "version": 3
   },
   "file_extension": ".py",
   "mimetype": "text/x-python",
   "name": "python",
   "nbconvert_exporter": "python",
   "pygments_lexer": "ipython3",
   "version": "3.6.9"
  }
 },
 "nbformat": 4,
 "nbformat_minor": 2
}
